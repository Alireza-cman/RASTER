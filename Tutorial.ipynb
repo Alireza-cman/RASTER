{
 "cells": [
  {
   "cell_type": "code",
   "execution_count": 23,
   "id": "02434876-714b-46e2-8c3d-a24e4c1fcce6",
   "metadata": {},
   "outputs": [],
   "source": [
    "import numpy as np\n",
    "import matplotlib.pyplot as plt\n",
    "from importlib import reload\n",
    "import RASTER\n",
    "import utils\n",
    "# import RASTER_univariate"
   ]
  },
  {
   "cell_type": "code",
   "execution_count": 24,
   "id": "696bf4ee-f299-4247-8a9c-bfcb9ebbf4a0",
   "metadata": {},
   "outputs": [
    {
     "data": {
      "text/plain": [
       "<module 'utils' from '/home/akeshavarzian/Github/utils.py'>"
      ]
     },
     "execution_count": 24,
     "metadata": {},
     "output_type": "execute_result"
    }
   ],
   "source": [
    "reload(utils)"
   ]
  },
  {
   "cell_type": "code",
   "execution_count": 25,
   "id": "48172542-d8a5-4599-8eed-88adfcde6a36",
   "metadata": {},
   "outputs": [
    {
     "name": "stdout",
     "output_type": "stream",
     "text": [
      "CinCECGTorso : \t(40, 1639) (1380, 1639)\n",
      "#labels:  [1 2 3 4]\n"
     ]
    }
   ],
   "source": [
    "x_train,y_train, x_test, y_test = utils.load_dataset('CinCECGTorso')"
   ]
  },
  {
   "cell_type": "code",
   "execution_count": 26,
   "id": "afccad33-13aa-482c-9270-e7bad96c74c3",
   "metadata": {},
   "outputs": [
    {
     "data": {
      "text/plain": [
       "0.9159420289855073"
      ]
     },
     "execution_count": 26,
     "metadata": {},
     "output_type": "execute_result"
    }
   ],
   "source": [
    "x_train_trans, x_test_trans = RASTER.RASTER(x_train ,y_train  ,x_test,y_test, n_features=10_000)\n",
    "accuracy , _, clf = utils.classic_classifier(x_train_trans,y_train , x_test_trans,y_test)\n",
    "accuracy"
   ]
  },
  {
   "cell_type": "code",
   "execution_count": null,
   "id": "7c5b5215-2f84-4293-bff5-2a5b65b0b5ca",
   "metadata": {},
   "outputs": [],
   "source": []
  }
 ],
 "metadata": {
  "kernelspec": {
   "display_name": "Python 3 (ipykernel)",
   "language": "python",
   "name": "python3"
  },
  "language_info": {
   "codemirror_mode": {
    "name": "ipython",
    "version": 3
   },
   "file_extension": ".py",
   "mimetype": "text/x-python",
   "name": "python",
   "nbconvert_exporter": "python",
   "pygments_lexer": "ipython3",
   "version": "3.8.15"
  }
 },
 "nbformat": 4,
 "nbformat_minor": 5
}
