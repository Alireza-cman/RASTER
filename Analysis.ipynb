{
 "cells": [
  {
   "cell_type": "code",
   "execution_count": 12,
   "id": "0724c224-29bd-46ae-a433-2be4cc00bb6e",
   "metadata": {},
   "outputs": [],
   "source": [
    "import pandas as pd\n",
    "import numpy as np\n",
    "from utils import why\n",
    "from utils import dataset as DS"
   ]
  },
  {
   "cell_type": "code",
   "execution_count": 3,
   "id": "6786092c-d7a1-4bb0-a394-4dd065fa5549",
   "metadata": {},
   "outputs": [],
   "source": [
    "df = pd.read_csv('./results/overaldownload.csv')\n",
    "\n",
    "# # Reshaping the DataFrame into the desired format\n",
    "df_melted = df.melt(id_vars=[\"Dataset\"], var_name=\"Method\", value_name=\"Accuracy\")\n",
    "\n",
    "df_melted['IsEven'] = False\n",
    "df_melted= df_melted[df_melted['Method']!= \"ROCKET\"] "
   ]
  },
  {
   "cell_type": "code",
   "execution_count": 4,
   "id": "550cffaa-2449-4422-98ed-9e0b4774cc87",
   "metadata": {},
   "outputs": [],
   "source": [
    "provision_df = pd.read_csv('./results/hydra.csv',names = ['Dataset', 'Accuracy', 'a' , 'b'])\n",
    "provision_dataset = provision_df.Dataset.tolist()\n",
    "# newer version\n",
    "provision_dataset = df_melted.Dataset.tolist()"
   ]
  },
  {
   "cell_type": "code",
   "execution_count": 5,
   "id": "d79b757e-fae3-4d6f-99be-543663cbcce2",
   "metadata": {},
   "outputs": [],
   "source": [
    "# hydra_dic = './Run/time_hydra.csv'\n",
    "raster1_dic = './results/raster.csv'\n",
    "df_raster1 = pd.read_csv(raster1_dic)\n"
   ]
  },
  {
   "cell_type": "code",
   "execution_count": 6,
   "id": "b842d900-aa43-4af0-8d92-1febd377ef9d",
   "metadata": {},
   "outputs": [],
   "source": [
    "hydra_dic = \"./results/hydra.csv\"\n",
    "inception_dic = \"./results/inceptionNet.csv\"\n",
    "resnet_dic = \"./results/resnet.csv\"\n",
    "rocket_dic = \"./results/rocket.csv\"\n",
    "\n",
    "\n",
    "df_hydra = pd.read_csv(\n",
    "    hydra_dic, names=[\"Dataset\", \"Method\", \"Accuracy\", \"IsEven\", \"Time\"]\n",
    ")\n",
    "\n",
    "df_raster1 = pd.read_csv(raster1_dic)\n",
    "\n",
    "# Inception\n",
    "df_inception = pd.read_csv(inception_dic, names=[\"Method\", \"Dataset\", \"Accuracy\"])\n",
    "\n",
    "\n",
    "# resnet\n",
    "df_resnet = pd.read_csv(resnet_dic, names=[\"Method\", \"Dataset\", \"Accuracy\"])\n",
    "\n",
    "\n",
    "\n",
    "df_rocket = pd.read_csv(rocket_dic, names=[\"Dataset\", \"Method\", \"Accuracy\", \"IsEven\"])\n",
    "\n",
    "\n",
    "df_concat = pd.concat([df_hydra, df_raster1, df_rocket, df_melted], ignore_index=True)\n",
    "df_concat = df_concat.drop(\"IsEven\", axis=1)\n",
    "df_concat = df_concat.drop(\"Time\", axis=1)"
   ]
  },
  {
   "cell_type": "code",
   "execution_count": 7,
   "id": "86f4499a",
   "metadata": {},
   "outputs": [
    {
     "data": {
      "text/html": [
       "<div>\n",
       "<style scoped>\n",
       "    .dataframe tbody tr th:only-of-type {\n",
       "        vertical-align: middle;\n",
       "    }\n",
       "\n",
       "    .dataframe tbody tr th {\n",
       "        vertical-align: top;\n",
       "    }\n",
       "\n",
       "    .dataframe thead th {\n",
       "        text-align: right;\n",
       "    }\n",
       "</style>\n",
       "<table border=\"1\" class=\"dataframe\">\n",
       "  <thead>\n",
       "    <tr style=\"text-align: right;\">\n",
       "      <th></th>\n",
       "      <th>Dataset</th>\n",
       "      <th>Method</th>\n",
       "      <th>Accuracy</th>\n",
       "    </tr>\n",
       "  </thead>\n",
       "  <tbody>\n",
       "    <tr>\n",
       "      <th>0</th>\n",
       "      <td>ACSF1</td>\n",
       "      <td>Hydra</td>\n",
       "      <td>0.840000</td>\n",
       "    </tr>\n",
       "    <tr>\n",
       "      <th>1</th>\n",
       "      <td>Adiac</td>\n",
       "      <td>Hydra</td>\n",
       "      <td>0.808184</td>\n",
       "    </tr>\n",
       "    <tr>\n",
       "      <th>2</th>\n",
       "      <td>AllGestureWiimoteX</td>\n",
       "      <td>Hydra</td>\n",
       "      <td>0.744286</td>\n",
       "    </tr>\n",
       "    <tr>\n",
       "      <th>3</th>\n",
       "      <td>AllGestureWiimoteY</td>\n",
       "      <td>Hydra</td>\n",
       "      <td>0.760000</td>\n",
       "    </tr>\n",
       "    <tr>\n",
       "      <th>4</th>\n",
       "      <td>AllGestureWiimoteZ</td>\n",
       "      <td>Hydra</td>\n",
       "      <td>0.721429</td>\n",
       "    </tr>\n",
       "    <tr>\n",
       "      <th>...</th>\n",
       "      <td>...</td>\n",
       "      <td>...</td>\n",
       "      <td>...</td>\n",
       "    </tr>\n",
       "    <tr>\n",
       "      <th>1595</th>\n",
       "      <td>Wine</td>\n",
       "      <td>STC</td>\n",
       "      <td>0.703704</td>\n",
       "    </tr>\n",
       "    <tr>\n",
       "      <th>1596</th>\n",
       "      <td>WordSynonyms</td>\n",
       "      <td>STC</td>\n",
       "      <td>0.659875</td>\n",
       "    </tr>\n",
       "    <tr>\n",
       "      <th>1597</th>\n",
       "      <td>Worms</td>\n",
       "      <td>STC</td>\n",
       "      <td>0.727273</td>\n",
       "    </tr>\n",
       "    <tr>\n",
       "      <th>1598</th>\n",
       "      <td>WormsTwoClass</td>\n",
       "      <td>STC</td>\n",
       "      <td>0.818182</td>\n",
       "    </tr>\n",
       "    <tr>\n",
       "      <th>1599</th>\n",
       "      <td>Yoga</td>\n",
       "      <td>STC</td>\n",
       "      <td>0.880667</td>\n",
       "    </tr>\n",
       "  </tbody>\n",
       "</table>\n",
       "<p>1600 rows × 3 columns</p>\n",
       "</div>"
      ],
      "text/plain": [
       "                 Dataset Method  Accuracy\n",
       "0                  ACSF1  Hydra  0.840000\n",
       "1                  Adiac  Hydra  0.808184\n",
       "2     AllGestureWiimoteX  Hydra  0.744286\n",
       "3     AllGestureWiimoteY  Hydra  0.760000\n",
       "4     AllGestureWiimoteZ  Hydra  0.721429\n",
       "...                  ...    ...       ...\n",
       "1595                Wine    STC  0.703704\n",
       "1596        WordSynonyms    STC  0.659875\n",
       "1597               Worms    STC  0.727273\n",
       "1598       WormsTwoClass    STC  0.818182\n",
       "1599                Yoga    STC  0.880667\n",
       "\n",
       "[1600 rows x 3 columns]"
      ]
     },
     "execution_count": 7,
     "metadata": {},
     "output_type": "execute_result"
    }
   ],
   "source": [
    "df_concat"
   ]
  },
  {
   "cell_type": "code",
   "execution_count": 8,
   "id": "4514539e-7338-4e6b-bfe4-8f7f359742c8",
   "metadata": {},
   "outputs": [],
   "source": [
    "df_total = df_concat.groupby(['Method','Dataset'])['Accuracy'].mean().reset_index()\n",
    "df_total = df_total[df_total.Dataset.isin(provision_dataset)]\n",
    "# df_total\n",
    "all_methods = np.unique(df_total['Method'])\n",
    "df_total = df_total[df_total['Method'].isin(['ISD','InceptionTime',\n",
    "                                    'Arsenal','RASTER2','ROCKET',\n",
    "                                    'TS-CHIEF','MiniROCKET'])]\n",
    "df_total['Method'] = df_total['Method'].replace('RASTER2', 'RASTER')"
   ]
  },
  {
   "cell_type": "markdown",
   "id": "2a33e0b4-d9f0-4fb5-9c5a-043b670e71f1",
   "metadata": {},
   "source": [
    "# Total"
   ]
  },
  {
   "cell_type": "code",
   "execution_count": 9,
   "id": "14c671d0-3f20-4623-a99f-d2674ae582f2",
   "metadata": {},
   "outputs": [
    {
     "data": {
      "text/plain": [
       "Method\n",
       "Arsenal          0.854120\n",
       "ISD              0.865113\n",
       "InceptionTime    0.857782\n",
       "MiniROCKET       0.857389\n",
       "RASTER           0.851961\n",
       "ROCKET           0.856959\n",
       "TS-CHIEF         0.864847\n",
       "Name: Accuracy, dtype: float64"
      ]
     },
     "execution_count": 9,
     "metadata": {},
     "output_type": "execute_result"
    }
   ],
   "source": [
    "df_total.groupby(['Method'])['Accuracy'].mean()"
   ]
  },
  {
   "cell_type": "code",
   "execution_count": null,
   "id": "15c99c12",
   "metadata": {},
   "outputs": [
    {
     "data": {
      "text/html": [
       "<div>\n",
       "<style scoped>\n",
       "    .dataframe tbody tr th:only-of-type {\n",
       "        vertical-align: middle;\n",
       "    }\n",
       "\n",
       "    .dataframe tbody tr th {\n",
       "        vertical-align: top;\n",
       "    }\n",
       "\n",
       "    .dataframe thead th {\n",
       "        text-align: right;\n",
       "    }\n",
       "</style>\n",
       "<table border=\"1\" class=\"dataframe\">\n",
       "  <thead>\n",
       "    <tr style=\"text-align: right;\">\n",
       "      <th></th>\n",
       "      <th>Dataset</th>\n",
       "      <th>MiniROCKET_Accuracy</th>\n",
       "      <th>ISD_Accuracy</th>\n",
       "      <th>Difference</th>\n",
       "      <th>Train Size</th>\n",
       "      <th>Test Size</th>\n",
       "      <th>Length</th>\n",
       "      <th>No. of Classes</th>\n",
       "      <th>Type</th>\n",
       "    </tr>\n",
       "  </thead>\n",
       "  <tbody>\n",
       "    <tr>\n",
       "      <th>0</th>\n",
       "      <td>SonyAIBORobotSurface1</td>\n",
       "      <td>0.901276</td>\n",
       "      <td>0.852468</td>\n",
       "      <td>0.048808</td>\n",
       "      <td>20</td>\n",
       "      <td>601</td>\n",
       "      <td>70</td>\n",
       "      <td>2</td>\n",
       "      <td>SENSOR</td>\n",
       "    </tr>\n",
       "    <tr>\n",
       "      <th>1</th>\n",
       "      <td>SonyAIBORobotSurface2</td>\n",
       "      <td>0.913606</td>\n",
       "      <td>0.880378</td>\n",
       "      <td>0.033228</td>\n",
       "      <td>27</td>\n",
       "      <td>953</td>\n",
       "      <td>65</td>\n",
       "      <td>2</td>\n",
       "      <td>SENSOR</td>\n",
       "    </tr>\n",
       "    <tr>\n",
       "      <th>2</th>\n",
       "      <td>Mallat</td>\n",
       "      <td>0.945131</td>\n",
       "      <td>0.917982</td>\n",
       "      <td>0.027150</td>\n",
       "      <td>55</td>\n",
       "      <td>2345</td>\n",
       "      <td>1024</td>\n",
       "      <td>8</td>\n",
       "      <td>SIMULATED</td>\n",
       "    </tr>\n",
       "  </tbody>\n",
       "</table>\n",
       "</div>"
      ],
      "text/plain": [
       "                 Dataset  MiniROCKET_Accuracy  ISD_Accuracy  Difference  \\\n",
       "0  SonyAIBORobotSurface1             0.901276      0.852468    0.048808   \n",
       "1  SonyAIBORobotSurface2             0.913606      0.880378    0.033228   \n",
       "2                 Mallat             0.945131      0.917982    0.027150   \n",
       "\n",
       "   Train Size  Test Size  Length  No. of Classes       Type  \n",
       "0          20        601      70               2     SENSOR  \n",
       "1          27        953      65               2     SENSOR  \n",
       "2          55       2345    1024               8  SIMULATED  "
      ]
     },
     "execution_count": 13,
     "metadata": {},
     "output_type": "execute_result"
    }
   ],
   "source": [
    "print( ' datasets where MiniROCKET is better than ISD')\n",
    "miniwasbetter = why.compare_2method(df_total, 'MiniROCKET','ISD')\n",
    "miniwasbetter.merge( DS.load_dataset_description(),on=['Dataset'])"
   ]
  },
  {
   "cell_type": "code",
   "execution_count": 15,
   "id": "756c832b",
   "metadata": {},
   "outputs": [
    {
     "name": "stdout",
     "output_type": "stream",
     "text": [
      " datasets where RASTER is better than ISD\n"
     ]
    },
    {
     "data": {
      "text/html": [
       "<div>\n",
       "<style scoped>\n",
       "    .dataframe tbody tr th:only-of-type {\n",
       "        vertical-align: middle;\n",
       "    }\n",
       "\n",
       "    .dataframe tbody tr th {\n",
       "        vertical-align: top;\n",
       "    }\n",
       "\n",
       "    .dataframe thead th {\n",
       "        text-align: right;\n",
       "    }\n",
       "</style>\n",
       "<table border=\"1\" class=\"dataframe\">\n",
       "  <thead>\n",
       "    <tr style=\"text-align: right;\">\n",
       "      <th></th>\n",
       "      <th>Dataset</th>\n",
       "      <th>RASTER_Accuracy</th>\n",
       "      <th>ISD_Accuracy</th>\n",
       "      <th>Difference</th>\n",
       "      <th>Train Size</th>\n",
       "      <th>Test Size</th>\n",
       "      <th>Length</th>\n",
       "      <th>No. of Classes</th>\n",
       "      <th>Type</th>\n",
       "    </tr>\n",
       "  </thead>\n",
       "  <tbody>\n",
       "    <tr>\n",
       "      <th>0</th>\n",
       "      <td>SonyAIBORobotSurface1</td>\n",
       "      <td>0.896839</td>\n",
       "      <td>0.852468</td>\n",
       "      <td>0.044370</td>\n",
       "      <td>20</td>\n",
       "      <td>601</td>\n",
       "      <td>70</td>\n",
       "      <td>2</td>\n",
       "      <td>SENSOR</td>\n",
       "    </tr>\n",
       "    <tr>\n",
       "      <th>1</th>\n",
       "      <td>Phoneme</td>\n",
       "      <td>0.289557</td>\n",
       "      <td>0.255802</td>\n",
       "      <td>0.033755</td>\n",
       "      <td>214</td>\n",
       "      <td>1896</td>\n",
       "      <td>1024</td>\n",
       "      <td>39</td>\n",
       "      <td>SOUND</td>\n",
       "    </tr>\n",
       "    <tr>\n",
       "      <th>2</th>\n",
       "      <td>DistalPhalanxTW</td>\n",
       "      <td>0.697842</td>\n",
       "      <td>0.664269</td>\n",
       "      <td>0.033573</td>\n",
       "      <td>400</td>\n",
       "      <td>139</td>\n",
       "      <td>80</td>\n",
       "      <td>6</td>\n",
       "      <td>IMAGE</td>\n",
       "    </tr>\n",
       "    <tr>\n",
       "      <th>3</th>\n",
       "      <td>SonyAIBORobotSurface2</td>\n",
       "      <td>0.903463</td>\n",
       "      <td>0.880378</td>\n",
       "      <td>0.023085</td>\n",
       "      <td>27</td>\n",
       "      <td>953</td>\n",
       "      <td>65</td>\n",
       "      <td>2</td>\n",
       "      <td>SENSOR</td>\n",
       "    </tr>\n",
       "  </tbody>\n",
       "</table>\n",
       "</div>"
      ],
      "text/plain": [
       "                 Dataset  RASTER_Accuracy  ISD_Accuracy  Difference  \\\n",
       "0  SonyAIBORobotSurface1         0.896839      0.852468    0.044370   \n",
       "1                Phoneme         0.289557      0.255802    0.033755   \n",
       "2        DistalPhalanxTW         0.697842      0.664269    0.033573   \n",
       "3  SonyAIBORobotSurface2         0.903463      0.880378    0.023085   \n",
       "\n",
       "   Train Size  Test Size  Length  No. of Classes    Type  \n",
       "0          20        601      70               2  SENSOR  \n",
       "1         214       1896    1024              39   SOUND  \n",
       "2         400        139      80               6   IMAGE  \n",
       "3          27        953      65               2  SENSOR  "
      ]
     },
     "execution_count": 15,
     "metadata": {},
     "output_type": "execute_result"
    }
   ],
   "source": [
    "print( ' datasets where RASTER is better than ISD')\n",
    "rasterwasbetter = why.compare_2method(df_total, 'RASTER','ISD')\n",
    "rasterwasbetter.merge(DS.load_dataset_description(),on=['Dataset'])"
   ]
  },
  {
   "cell_type": "code",
   "execution_count": null,
   "id": "69227864",
   "metadata": {},
   "outputs": [],
   "source": [
    "print( ' datasets where RASTER is better than ISD')\n",
    "rasterwasbetter = why.compare_2method(df_total, 'RASTER','ISD')\n",
    "rasterwasbetter.merge(DS.load_dataset_description(),on=['Dataset'])"
   ]
  },
  {
   "cell_type": "markdown",
   "id": "b604c1b3-ee81-4c5c-956b-3aea4c579843",
   "metadata": {},
   "source": [
    "# Pruned version"
   ]
  },
  {
   "cell_type": "code",
   "execution_count": 17,
   "id": "a08146a1-2c75-42c5-8e8a-70a925b7c06f",
   "metadata": {},
   "outputs": [
    {
     "data": {
      "text/plain": [
       "Method\n",
       "Arsenal          0.864472\n",
       "ISD              0.871918\n",
       "InceptionTime    0.859624\n",
       "MiniROCKET       0.862119\n",
       "RASTER           0.868011\n",
       "ROCKET           0.864915\n",
       "TS-CHIEF         0.870228\n",
       "Name: Accuracy, dtype: float64"
      ]
     },
     "execution_count": 17,
     "metadata": {},
     "output_type": "execute_result"
    }
   ],
   "source": [
    "df_pruned = df_total.merge(DS.load_dataset_description(),on=['Dataset'])\n",
    "df_pruned['ratio'] = df_pruned['Train Size']/df_pruned['No. of Classes']\n",
    "df_pruned = df_pruned[df_pruned['ratio']>4]\n",
    "df_pruned = df_pruned[df_pruned['Length']>100]\n",
    "df_pruned.groupby(['Method'])['Accuracy'].mean()"
   ]
  },
  {
   "cell_type": "code",
   "execution_count": 18,
   "id": "c88ec58e-4385-477b-88fd-c2d5aea05a5c",
   "metadata": {},
   "outputs": [
    {
     "data": {
      "text/plain": [
       "Method\n",
       "Arsenal          0.805815\n",
       "ISD              0.827805\n",
       "InceptionTime    0.770115\n",
       "MiniROCKET       0.796399\n",
       "RASTER           0.818099\n",
       "ROCKET           0.799136\n",
       "TS-CHIEF         0.823285\n",
       "Name: Accuracy, dtype: float64"
      ]
     },
     "execution_count": 18,
     "metadata": {},
     "output_type": "execute_result"
    }
   ],
   "source": [
    "mini_sig_dataset = why.compare_2method(df_pruned, 'MiniROCKET', 'RASTER',threshold=0.02)['Dataset'].tolist()\n",
    "rast_sig_dataset = why.compare_2method(df_pruned, 'RASTER', 'MiniROCKET',threshold=0.02)['Dataset'].tolist()\n",
    "\n",
    "selected_dataset = [*mini_sig_dataset, *rast_sig_dataset]\n",
    "df_challenge = df_pruned[df_pruned[\"Dataset\"].isin(selected_dataset)]\n",
    "df_pruned[df_pruned[\"Dataset\"].isin(selected_dataset)].groupby(\"Method\")['Accuracy'].mean()"
   ]
  },
  {
   "cell_type": "code",
   "execution_count": 19,
   "id": "02b9b98b-c554-45d0-a483-ffbca6833a7e",
   "metadata": {},
   "outputs": [
    {
     "data": {
      "text/plain": [
       "Method\n",
       "Arsenal          0.805815\n",
       "ISD              0.827805\n",
       "InceptionTime    0.770115\n",
       "MiniROCKET       0.796399\n",
       "RASTER           0.818099\n",
       "ROCKET           0.799136\n",
       "TS-CHIEF         0.823285\n",
       "Name: Accuracy, dtype: float64"
      ]
     },
     "execution_count": 19,
     "metadata": {},
     "output_type": "execute_result"
    }
   ],
   "source": [
    "df_pruned[df_pruned[\"Dataset\"].isin(selected_dataset)].groupby(\"Method\")['Accuracy'].mean()"
   ]
  }
 ],
 "metadata": {
  "kernelspec": {
   "display_name": "torchmps",
   "language": "python",
   "name": "python3"
  },
  "language_info": {
   "codemirror_mode": {
    "name": "ipython",
    "version": 3
   },
   "file_extension": ".py",
   "mimetype": "text/x-python",
   "name": "python",
   "nbconvert_exporter": "python",
   "pygments_lexer": "ipython3",
   "version": "3.10.16"
  }
 },
 "nbformat": 4,
 "nbformat_minor": 5
}
